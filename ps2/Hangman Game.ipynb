{
 "cells": [
  {
   "cell_type": "code",
   "execution_count": 1,
   "metadata": {},
   "outputs": [],
   "source": [
    "import random\n",
    "import string"
   ]
  },
  {
   "cell_type": "code",
   "execution_count": 2,
   "metadata": {},
   "outputs": [],
   "source": [
    "def load_words():\n",
    "    \"\"\"\n",
    "    Returns a list of valid words. Words are strings of lowercase letters.\n",
    "    \n",
    "    Depending on the size of the word list, this function may\n",
    "    take a while to finish.\n",
    "    \"\"\"\n",
    "    print(\"Loading word list from file...\")\n",
    "    # inFile: file\n",
    "    inFile = open('words.txt', 'r')\n",
    "    # line: string\n",
    "    line = inFile.readline()\n",
    "    # wordlist: list of strings\n",
    "    wordlist = line.split()\n",
    "    print(\"  \", len(wordlist), \"words loaded.\")\n",
    "    return wordlist"
   ]
  },
  {
   "cell_type": "code",
   "execution_count": 3,
   "metadata": {},
   "outputs": [
    {
     "name": "stdout",
     "output_type": "stream",
     "text": [
      "Loading word list from file...\n",
      "   55900 words loaded.\n"
     ]
    }
   ],
   "source": [
    "wordlist = load_words()"
   ]
  },
  {
   "cell_type": "code",
   "execution_count": 4,
   "metadata": {},
   "outputs": [],
   "source": [
    "def choose_word(wordlist):\n",
    "    \"\"\"\n",
    "    wordlist (list): list of words (strings)\n",
    "    \n",
    "    Returns a word from wordlist at random\n",
    "    \"\"\"\n",
    "    return random.choice(wordlist)"
   ]
  },
  {
   "cell_type": "code",
   "execution_count": 5,
   "metadata": {},
   "outputs": [],
   "source": [
    "def is_word_guessed(secret_word, letters_guessed):\n",
    "    '''\n",
    "    secret_word: string, the word the user is guessing; assumes all letters are\n",
    "      lowercase\n",
    "    letters_guessed: list (of letters), which letters have been guessed so far;\n",
    "      assumes that all letters are lowercase\n",
    "    returns: boolean, True if all the letters of secret_word are in letters_guessed;\n",
    "      False otherwise\n",
    "    '''\n",
    "    letters_guessed = set(letters_guessed)\n",
    "    secret_words = set(secret_word)\n",
    "    if letters_guessed == secret_words:\n",
    "        return True\n",
    "    else:\n",
    "        return False\n",
    "            "
   ]
  },
  {
   "cell_type": "code",
   "execution_count": 6,
   "metadata": {},
   "outputs": [
    {
     "name": "stdout",
     "output_type": "stream",
     "text": [
      "True\n"
     ]
    }
   ],
   "source": [
    "secret_word = 'apple'\n",
    "letters_guessed = ['a','p','p','p','l','e']\n",
    "print(is_word_guessed(secret_word,letters_guessed))"
   ]
  },
  {
   "cell_type": "code",
   "execution_count": 7,
   "metadata": {},
   "outputs": [],
   "source": [
    "def get_guessed_word(secret_word, letters_guessed):\n",
    "    '''\n",
    "    secret_word: string, the word the user is guessing\n",
    "    letters_guessed: list (of letters), which letters have been guessed so far\n",
    "    returns: string, comprised of letters, underscores (_), and spaces that represents\n",
    "      which letters in secret_word have been guessed so far.\n",
    "    '''\n",
    "    result = []\n",
    "    letters_guessed = ''.join(letters_guessed).lower()\n",
    "    for string in secret_word:         \n",
    "        if string in letters_guessed:\n",
    "            result.append(string)\n",
    "        else:\n",
    "            result.append('_')\n",
    "    return ' '.join(result)"
   ]
  },
  {
   "cell_type": "code",
   "execution_count": 8,
   "metadata": {},
   "outputs": [
    {
     "name": "stdout",
     "output_type": "stream",
     "text": [
      "_ p p _ e\n"
     ]
    }
   ],
   "source": [
    "secret_word = 'apple'\n",
    "letters_guessed = ['e','i','k','p','r','s']\n",
    "print(get_guessed_word(secret_word,letters_guessed))"
   ]
  },
  {
   "cell_type": "code",
   "execution_count": 9,
   "metadata": {},
   "outputs": [],
   "source": [
    "def get_available_letters(letters_guessed):\n",
    "    '''\n",
    "    letters_guessed: list (of letters), which letters have been guessed so far\n",
    "    returns: string (of letters), comprised of letters that represents which letters have not\n",
    "      yet been guessed.\n",
    "    '''\n",
    "    val_ret = []\n",
    "    asc = string.ascii_lowercase\n",
    "    for val in asc:\n",
    "        if val in letters_guessed:\n",
    "            continue\n",
    "        else:\n",
    "            val_ret.append(val)\n",
    "            \n",
    "    return ''.join(val_ret)"
   ]
  },
  {
   "cell_type": "code",
   "execution_count": 10,
   "metadata": {},
   "outputs": [
    {
     "name": "stdout",
     "output_type": "stream",
     "text": [
      "abcdfghjlmnoqtuvwxyz\n"
     ]
    }
   ],
   "source": [
    "letters_guessed = ['e','i','k','p','r','s']\n",
    "print(get_available_letters(letters_guessed))"
   ]
  },
  {
   "cell_type": "code",
   "execution_count": 21,
   "metadata": {},
   "outputs": [],
   "source": [
    "def hangman(secret_word):\n",
    "    '''\n",
    "    secret_word: string, the secret word to guess.\n",
    "    \n",
    "    Starts up an interactive game of Hangman.\n",
    "    \n",
    "    * At the start of the game, let the user know how many \n",
    "      letters the secret_word contains and how many guesses s/he starts with.\n",
    "      \n",
    "    * The user should start with 6 guesses\n",
    "\n",
    "    * Before each round, you should display to the user how many guesses\n",
    "      s/he has left and the letters that the user has not yet guessed.\n",
    "    \n",
    "    * Ask the user to supply one guess per round. Remember to make\n",
    "      sure that the user puts in a letter!\n",
    "    \n",
    "    * The user should receive feedback immediately after each guess \n",
    "      about whether their guess appears in the computer's word.\n",
    "\n",
    "    * After each guess, you should display to the user the \n",
    "      partially guessed word so far.\n",
    "    \n",
    "    Follows the other limitations detailed in the problem write-up.\n",
    "    '''\n",
    "    print('Welcome to the game Hangman!')\n",
    "    print('I am thinking of a word that is {} letters long'.format(len(secret_word)))\n",
    "    print('_'* 10)\n",
    "    print('You have 6 guesses left.')\n",
    "    print('Available letters: {}'.format(string.ascii_lowercase))\n",
    "    \n",
    "    letters_guessed = []\n",
    "    for i in range(7):\n",
    "        inp = input('Please guess a letter: ')\n",
    "        letters_guessed.append(inp)\n",
    "        guess = 6 - i \n",
    "        if is_word_guessed(secret_word, letters_guessed) == False:\n",
    "            print(get_guessed_word(secret_word, letters_guessed))\n",
    "            print('You have {} guesses left'.format(guess))\n",
    "            print(get_available_letters(letters_guessed))\n",
    "        else:\n",
    "            break\n",
    "    \n",
    "    if guess == 0:\n",
    "        print(\"Sorry, you have used up all your guesses !!\")\n",
    "    else:\n",
    "        print(get_guessed_word(secret_word, letters_guessed)\n",
    "        print('Congrats, you have beat the fucking game !!')\n"
   ]
  },
  {
   "cell_type": "code",
   "execution_count": 24,
   "metadata": {},
   "outputs": [
    {
     "name": "stdout",
     "output_type": "stream",
     "text": [
      "Welcome to the game Hangman!\n",
      "I am thinking of a word that is 4 letters long\n",
      "__________\n",
      "You have 6 guesses left.\n",
      "Available letters: abcdefghijklmnopqrstuvwxyz\n",
      "Please guess a letter: c\n",
      "c _ _ _\n",
      "You have 6 guesses left\n",
      "abdefghijklmnopqrstuvwxyz\n",
      "Please guess a letter: u\n",
      "c u _ _\n",
      "You have 5 guesses left\n",
      "abdefghijklmnopqrstvwxyz\n",
      "Please guess a letter: t\n",
      "c u t _\n",
      "You have 4 guesses left\n",
      "abdefghijklmnopqrsvwxyz\n",
      "Please guess a letter: e\n",
      "Congrats motherfucker, you have beat the fucking game !!\n"
     ]
    }
   ],
   "source": [
    "hangman('cute')"
   ]
  },
  {
   "cell_type": "code",
   "execution_count": null,
   "metadata": {},
   "outputs": [],
   "source": []
  }
 ],
 "metadata": {
  "kernelspec": {
   "display_name": "Python 3",
   "language": "python",
   "name": "python3"
  },
  "language_info": {
   "codemirror_mode": {
    "name": "ipython",
    "version": 3
   },
   "file_extension": ".py",
   "mimetype": "text/x-python",
   "name": "python",
   "nbconvert_exporter": "python",
   "pygments_lexer": "ipython3",
   "version": "3.6.3"
  }
 },
 "nbformat": 4,
 "nbformat_minor": 2
}
